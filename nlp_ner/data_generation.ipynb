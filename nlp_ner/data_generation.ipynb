{
 "cells": [
  {
   "cell_type": "markdown",
   "source": [
    "## Dataset Creation"
   ],
   "metadata": {
    "collapsed": false
   },
   "id": "e9825e1fcab2555d"
  },
  {
   "cell_type": "code",
   "execution_count": 6,
   "outputs": [],
   "source": [
    "import pandas as pd\n",
    "import re"
   ],
   "metadata": {
    "collapsed": false,
    "ExecuteTime": {
     "end_time": "2024-10-20T21:50:46.965083Z",
     "start_time": "2024-10-20T21:50:46.947370Z"
    }
   },
   "id": "5385dbe3361253c4"
  },
  {
   "cell_type": "markdown",
   "source": [
    "`top_100_mountain_names.csv`:\n",
    "\n",
    "- This file contains a list of the top 100 most popular mountains.\n",
    "- The data was gathered from open data sources that provide information on well-known mountains around the world."
   ],
   "metadata": {
    "collapsed": false
   },
   "id": "47763bb2a280bf57"
  },
  {
   "cell_type": "markdown",
   "source": [
    "`sentences.csv`\n",
    "\n",
    "In the `generate_sentences_with_AI` script, I use OpenAI's API to generate sentences that include mountain names from a dataset of the top 100 mountains. \n",
    "First, I load the mountain names from a CSV file, and with the help of `nltk` I tokenize sentences. The script then checks if the generated sentences contain possessive forms of the mountain names using a regular expression pattern. The result is saved in `sentences.csv`"
   ],
   "metadata": {
    "collapsed": false
   },
   "id": "bb9cfe17f46eb9c2"
  },
  {
   "cell_type": "markdown",
   "source": [
    "Let's add labels to our sentences. We will tag mountain names as entities for training the NER model:\n",
    "- `O` - means the word doesn't correspond to a mountain name entity\n",
    "- `B-MOUNTAIN` - means the word corresponds to the beginning of a mountain name entity\n",
    "- `I-MOUNTAIN` - means the word is inside a mountain name entity\n",
    "\n",
    "We will save the result in `labeled_sentences.csv`"
   ],
   "metadata": {
    "collapsed": false
   },
   "id": "1df18f4a8ebb9180"
  },
  {
   "cell_type": "code",
   "execution_count": null,
   "outputs": [],
   "source": [
    "def label_ner_data(sentence, mountain):\n",
    "    words = re.findall(r\"[\\w'-]+|[.,!?;]\", sentence)\n",
    "    mountain_parts = mountain.split()\n",
    "    labeled_sentence = []\n",
    "    index = 0\n",
    "    \n",
    "    while index < len(words):\n",
    "        if words[index:index + len(mountain_parts)] == mountain_parts:\n",
    "            for position, word in enumerate(mountain_parts):\n",
    "                label = 'B-MOUNTAIN' if position == 0 else 'I-MOUNTAIN'\n",
    "                labeled_sentence.append((word, label))\n",
    "            index += len(mountain_parts)\n",
    "        else:\n",
    "            labeled_sentence.append((words[index], 'O'))\n",
    "            index += 1\n",
    "\n",
    "    return labeled_sentence\n",
    "\n",
    "data = pd.read_csv('datasets/sentences.csv')\n",
    "labeled_data = []\n",
    "\n",
    "for index, row in data.iterrows():\n",
    "    sentence = row['sentence']\n",
    "    mountain = row['mountain']\n",
    "    labeled_sentence = label_ner_data(sentence, mountain)\n",
    "\n",
    "    for word, label in labeled_sentence:\n",
    "        labeled_data.append([index, word, label])\n",
    "\n",
    "labeled_df = pd.DataFrame(labeled_data, columns=['sentence_idx', 'word', 'label'])\n",
    "grouped = labeled_df.groupby('sentence_idx').agg(\n",
    "    tokens=('word', list),\n",
    "    tags=('label', list)\n",
    ").reset_index()\n",
    "\n",
    "grouped.to_csv('data/labeled_sentences.csv', index=False)"
   ],
   "metadata": {
    "collapsed": false
   },
   "id": "7a5237c105d0d57a"
  }
 ],
 "metadata": {
  "kernelspec": {
   "display_name": "Python 3",
   "language": "python",
   "name": "python3"
  },
  "language_info": {
   "codemirror_mode": {
    "name": "ipython",
    "version": 2
   },
   "file_extension": ".py",
   "mimetype": "text/x-python",
   "name": "python",
   "nbconvert_exporter": "python",
   "pygments_lexer": "ipython2",
   "version": "2.7.6"
  }
 },
 "nbformat": 4,
 "nbformat_minor": 5
}
