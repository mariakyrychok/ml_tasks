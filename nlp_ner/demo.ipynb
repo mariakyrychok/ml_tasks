{
 "cells": [
  {
   "cell_type": "code",
   "execution_count": 1,
   "outputs": [
    {
     "name": "stderr",
     "output_type": "stream",
     "text": [
      "[nltk_data] Downloading package punkt to\n",
      "[nltk_data]     /Users/mariiakyrychok/nltk_data...\n",
      "[nltk_data]   Package punkt is already up-to-date!\n"
     ]
    }
   ],
   "source": [
    "import pandas as pd\n",
    "import torch\n",
    "from training import train_model\n",
    "from inference import infer"
   ],
   "metadata": {
    "collapsed": false,
    "ExecuteTime": {
     "end_time": "2024-10-20T20:38:29.498822Z",
     "start_time": "2024-10-20T20:38:23.254830Z"
    }
   },
   "id": "f2831583a28c1063"
  },
  {
   "cell_type": "markdown",
   "source": [
    "### Training\n",
    "\n",
    "The script uses the Hugging Face `transformers` library for tokenization and model training (`BertTokenizerFast`, `BertForTokenClassification`, and `Trainer`).\n",
    "The model’s performance is evaluated using the `seqeval` metric."
   ],
   "metadata": {
    "collapsed": false
   },
   "id": "8d9180b5db8af0ea"
  },
  {
   "cell_type": "code",
   "execution_count": null,
   "outputs": [],
   "source": [
    "df = pd.read_csv('data/labeled_sentences.csv')\n",
    "\n",
    "model, tokenizer, result = train_model(df)"
   ],
   "metadata": {
    "collapsed": false
   },
   "id": "94b96c5830849880"
  },
  {
   "cell_type": "markdown",
   "source": [
    "### Metrics:"
   ],
   "metadata": {
    "collapsed": false
   },
   "id": "57976e81fafde9e8"
  },
  {
   "cell_type": "code",
   "execution_count": 9,
   "outputs": [
    {
     "name": "stdout",
     "output_type": "stream",
     "text": [
      "eval_loss: 0.06209941580891609\n",
      "eval_precision: 0.8709677419354839\n",
      "eval_recall: 0.7941176470588235\n",
      "eval_f1: 0.8307692307692308\n",
      "eval_accuracy: 0.9809782608695652\n",
      "eval_runtime: 0.2957\n",
      "eval_samples_per_second: 121.755\n",
      "eval_steps_per_second: 16.91\n",
      "epoch: 3.0\n"
     ]
    }
   ],
   "source": [
    "for key, value in result.items():\n",
    "    print(f'{key}: {value}')"
   ],
   "metadata": {
    "collapsed": false,
    "ExecuteTime": {
     "end_time": "2024-10-20T21:06:01.679796Z",
     "start_time": "2024-10-20T21:06:01.672765Z"
    }
   },
   "id": "5116667a757c6e2f"
  },
  {
   "cell_type": "markdown",
   "source": [
    "The model is performing well with a good balance between precision and recall (F1 = 0.831), and high accuracy (98.1%). However, recall could be improved, meaning the model might be missing some mountain names (false negatives)."
   ],
   "metadata": {
    "collapsed": false
   },
   "id": "9c6eea3f9b639d42"
  },
  {
   "cell_type": "code",
   "execution_count": 4,
   "outputs": [],
   "source": [
    "# save model_weights\n",
    "model_weights = model.state_dict()\n",
    "torch.save(model_weights, 'model_weights.pth')"
   ],
   "metadata": {
    "collapsed": false,
    "ExecuteTime": {
     "end_time": "2024-10-20T20:39:33.398528Z",
     "start_time": "2024-10-20T20:39:32.379674Z"
    }
   },
   "id": "84ce07c01a4fec82"
  },
  {
   "cell_type": "markdown",
   "source": [
    "Let's check how model works, using 5 sentences with mountain names."
   ],
   "metadata": {
    "collapsed": false
   },
   "id": "f07adbeb530900a4"
  },
  {
   "cell_type": "code",
   "execution_count": 10,
   "outputs": [
    {
     "name": "stdout",
     "output_type": "stream",
     "text": [
      "Sentence: Climbing Gangkar Punsum is considered a challenging feat for even experienced mountaineers.\n",
      "Tokens: ['climbing', 'gang', '##kar', 'pun', '##sum', 'is', 'considered', 'a', 'challenging', 'feat', 'for', 'even', 'experienced', 'mountain', '##eers', '.']\n",
      "Predicted tags: ['O', 'B-MOUNTAIN', 'B-MOUNTAIN', 'I-MOUNTAIN', 'I-MOUNTAIN', 'O', 'O', 'O', 'O', 'O', 'O', 'O', 'O', 'O', 'O', 'O'] \n",
      "\n",
      "Extracted mountains: gangkar punsum\n",
      "\n",
      "\n",
      "\n",
      "Sentence: Annapurna is the goddess of abundance and nourishment in Hindu mythology.\n",
      "Tokens: ['anna', '##pur', '##na', 'is', 'the', 'goddess', 'of', 'abundance', 'and', 'no', '##uri', '##sh', '##ment', 'in', 'hindu', 'mythology', '.']\n",
      "Predicted tags: ['B-MOUNTAIN', 'B-MOUNTAIN', 'B-MOUNTAIN', 'O', 'O', 'O', 'O', 'O', 'O', 'O', 'O', 'O', 'O', 'O', 'O', 'O', 'O'] \n",
      "\n",
      "Extracted mountains: annapurna\n",
      "\n",
      "\n",
      "\n",
      "Sentence: Volcan Karisimbi is an active stratovolcano located in the Virunga Mountains.\n",
      "Tokens: ['vol', '##can', 'kari', '##si', '##mb', '##i', 'is', 'an', 'active', 'st', '##rat', '##ovo', '##lc', '##ano', 'located', 'in', 'the', 'vi', '##run', '##ga', 'mountains', '.']\n",
      "Predicted tags: ['B-MOUNTAIN', 'B-MOUNTAIN', 'I-MOUNTAIN', 'I-MOUNTAIN', 'I-MOUNTAIN', 'I-MOUNTAIN', 'O', 'O', 'O', 'O', 'O', 'O', 'O', 'O', 'O', 'O', 'O', 'O', 'O', 'O', 'O', 'O'] \n",
      "\n",
      "Extracted mountains: volcan karisimbi\n",
      "\n",
      "\n",
      "Sentence: Many outdoor enthusiasts dream of summiting Mont Blanc one day.\n",
      "Tokens: ['many', 'outdoor', 'enthusiasts', 'dream', 'of', 'summit', '##ing', 'mont', 'blanc', 'one', 'day', '.']\n",
      "Predicted tags: ['O', 'O', 'O', 'O', 'O', 'O', 'O', 'B-MOUNTAIN', 'I-MOUNTAIN', 'O', 'O', 'O'] \n",
      "\n",
      "Extracted mountains: mont blanc\n",
      "\n",
      "\n",
      "\n",
      "Sentence: We finally reached the summit of Mount Everest, the tallest peak on Earth.\n",
      "Tokens: ['we', 'finally', 'reached', 'the', 'summit', 'of', 'mount', 'everest', ',', 'the', 'tallest', 'peak', 'on', 'earth', '.']\n",
      "Predicted tags: ['O', 'O', 'O', 'O', 'O', 'O', 'B-MOUNTAIN', 'I-MOUNTAIN', 'O', 'O', 'O', 'O', 'O', 'O', 'O'] \n",
      "\n",
      "Extracted mountains: mount everest\n"
     ]
    }
   ],
   "source": [
    "sentences = [\n",
    "    'Climbing Gangkar Punsum is considered a challenging feat for even experienced mountaineers.',\n",
    "    'Annapurna is the goddess of abundance and nourishment in Hindu mythology.',\n",
    "    'Volcan Karisimbi is an active stratovolcano located in the Virunga Mountains.',\n",
    "    'Many outdoor enthusiasts dream of summiting Mont Blanc one day.',\n",
    "    'We finally reached the summit of Mount Everest, the tallest peak on Earth.'\n",
    "]\n",
    "\n",
    "for sentence in sentences:\n",
    "    tokens, predicted_tags, mountains = infer(model, tokenizer, sentence)\n",
    "    print('Sentence:', sentence)\n",
    "    print('Tokens:', tokens)\n",
    "    print('Predicted tags:', predicted_tags, '\\n')\n",
    "    print('Extracted mountains:', mountains)\n",
    "    print('\\n\\n')"
   ],
   "metadata": {
    "collapsed": false,
    "ExecuteTime": {
     "end_time": "2024-10-20T21:52:16.523897Z",
     "start_time": "2024-10-20T21:52:13.585831Z"
    }
   },
   "id": "657b3f5a6e8ef4b1"
  },
  {
   "cell_type": "code",
   "execution_count": 5,
   "outputs": [],
   "source": [],
   "metadata": {
    "collapsed": false,
    "ExecuteTime": {
     "end_time": "2024-10-20T20:39:33.940814Z",
     "start_time": "2024-10-20T20:39:33.919384Z"
    }
   },
   "id": "485660b0830e5364"
  }
 ],
 "metadata": {
  "kernelspec": {
   "display_name": "Python 3",
   "language": "python",
   "name": "python3"
  },
  "language_info": {
   "codemirror_mode": {
    "name": "ipython",
    "version": 2
   },
   "file_extension": ".py",
   "mimetype": "text/x-python",
   "name": "python",
   "nbconvert_exporter": "python",
   "pygments_lexer": "ipython2",
   "version": "2.7.6"
  }
 },
 "nbformat": 4,
 "nbformat_minor": 5
}
