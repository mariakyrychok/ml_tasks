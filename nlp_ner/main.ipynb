{
 "cells": [
  {
   "cell_type": "code",
   "execution_count": 33,
   "outputs": [],
   "source": [
    "import csv\n",
    "import pandas as pd"
   ],
   "metadata": {
    "collapsed": false,
    "ExecuteTime": {
     "end_time": "2024-10-16T11:42:32.352863Z",
     "start_time": "2024-10-16T11:42:32.348495Z"
    }
   },
   "id": "2252dbaaa2222709"
  },
  {
   "cell_type": "code",
   "execution_count": 40,
   "outputs": [
    {
     "name": "stdout",
     "output_type": "stream",
     "text": [
      "Batura B-LOC\n",
      "Sar B-LOC\n",
      "is O\n",
      "one O\n",
      "of O\n",
      "the O\n",
      "highest O\n",
      "peaks O\n",
      "in O\n",
      "the O\n",
      "Karakoram O\n",
      "Range. O\n",
      "Climbers O\n",
      "from O\n",
      "around O\n",
      "the O\n",
      "world O\n",
      "are O\n",
      "drawn O\n",
      "to O\n",
      "Batura B-LOC\n",
      "Sar B-LOC\n",
      "for O\n",
      "its O\n",
      "challenging O\n",
      "ascent. O\n",
      "Gunung B-LOC\n",
      "Lawu B-LOC\n",
      "is O\n",
      "a B-LOC\n",
      "majestic O\n",
      "mountain O\n",
      "located O\n",
      "in O\n",
      "Central O\n",
      "Java, O\n",
      "Indonesia. O\n",
      "Many O\n",
      "hikers O\n",
      "and O\n",
      "nature O\n",
      "enthusiasts O\n",
      "enjoy O\n",
      "trekking O\n",
      "to O\n",
      "the O\n",
      "summit O\n",
      "of O\n",
      "Gunung B-LOC\n",
      "Lawu B-LOC\n",
      "for O\n",
      "its O\n",
      "breathtaking O\n",
      "views. O\n"
     ]
    }
   ],
   "source": [
    "def label_ner_data(dataset):\n",
    "    labeled_data = []\n",
    "    for data in dataset:\n",
    "        mountain = data['label']\n",
    "        words = data['sentence'].split()\n",
    "        labeled_sentence = []\n",
    "        for word in words:\n",
    "            if word in mountain:\n",
    "                mountain_name_parts = word.split()\n",
    "                for i, part in enumerate(mountain_name_parts):\n",
    "                    if i == 0:\n",
    "                        labeled_sentence.append((part, 'B-LOC'))\n",
    "                    else:\n",
    "                        labeled_sentence.append((part, 'I-LOC'))\n",
    "            else:\n",
    "                labeled_sentence.append((word, 'O'))\n",
    "        labeled_data.append(labeled_sentence)\n",
    "\n",
    "    return labeled_data\n",
    "\n",
    "# Example Usage:\n",
    "dataset2 = [\n",
    "    {'sentence': 'Batura Sar is one of the highest peaks in the Karakoram Range.',\n",
    "     'label': 'Batura Sar'},\n",
    "    {'sentence': 'Climbers from around the world are drawn to Batura Sar for its challenging ascent.',\n",
    "     'label': 'Batura Sar'},\n",
    "    {'sentence': 'Gunung Lawu is a majestic mountain located in Central Java, Indonesia.',\n",
    "     'label': 'Gunung Lawu'},\n",
    "    {'sentence': 'Many hikers and nature enthusiasts enjoy trekking to the summit of Gunung Lawu for its breathtaking views.',\n",
    "     'label': 'Gunung Lawu'}\n",
    "]\n",
    "\n",
    "labeled_dataset = label_ner_data(dataset2)\n",
    "\n",
    "for sentence in labeled_dataset:\n",
    "    for word, label in sentence:\n",
    "        print(f\"{word} {label}\")\n"
   ],
   "metadata": {
    "collapsed": false,
    "ExecuteTime": {
     "end_time": "2024-10-16T11:44:19.567993Z",
     "start_time": "2024-10-16T11:44:19.562305Z"
    }
   },
   "id": "5385dbe3361253c4"
  },
  {
   "cell_type": "code",
   "execution_count": 40,
   "outputs": [],
   "source": [],
   "metadata": {
    "collapsed": false,
    "ExecuteTime": {
     "end_time": "2024-10-16T11:44:19.576372Z",
     "start_time": "2024-10-16T11:44:19.565800Z"
    }
   },
   "id": "4874e893c4be55b8"
  }
 ],
 "metadata": {
  "kernelspec": {
   "display_name": "Python 3",
   "language": "python",
   "name": "python3"
  },
  "language_info": {
   "codemirror_mode": {
    "name": "ipython",
    "version": 2
   },
   "file_extension": ".py",
   "mimetype": "text/x-python",
   "name": "python",
   "nbconvert_exporter": "python",
   "pygments_lexer": "ipython2",
   "version": "2.7.6"
  }
 },
 "nbformat": 4,
 "nbformat_minor": 5
}
